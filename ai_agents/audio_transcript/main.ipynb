{
 "cells": [
  {
   "cell_type": "code",
   "execution_count": null,
   "id": "264a8b65",
   "metadata": {},
   "outputs": [],
   "source": [
    "from openai import OpenAI\n",
    "from dotenv import load_dotenv\n",
    "\n",
    "load_dotenv() # carrega as variáveis de ambiente (arquivo .env) com a chave da API da OPENAI\n",
    "cliente = OpenAI() \n",
    "\n",
    "''' pode-se passar um prompt para contextualizar o audio para que a IA dê uma resposta melhor\n",
    "nos casos de linguagem não formal ou girias, ao enviar no prompt a IA replica na transcrição por exemplo\n",
    "full stack - se não informado pode ser que a IA retorne fullstack junto'''\n",
    "contexto = \"este áudio é de uma publicidade de curso full stack em uma linguagem não formal\"\n",
    "\n",
    "with open (\"audio.mp3\", \"rb\") as arquivo: # recomendável abrir arquivos dentro de uma extrutura WHILE para não correr o risco do arquivo ficar aberto \n",
    "        transcricao = cliente.audio.transcriptions.create(file=arquivo,\n",
    "                                                          model=\"whisper-1\",\n",
    "                                                          language='pt',         # para ajudar o Modelo informar a linguagem do audio\n",
    "                                                          response_format=\"srt\"  # formato padrão de legendas pode ser txt ou outros\n",
    "                                                          prompt=contexto) \n",
    "\n",
    "''' gravando a legenda em um arquivo srt, \n",
    "    importante: a legenda em portugues contém caracteres especiais ( exemplo acentuações) observar que o \n",
    "    encoding padrão do python não aceita caracteres especiais, por isso a necessidade de mudar o encoding   \n",
    "'''\n",
    "\n",
    "with open(\"legenda.srt\", \"w\", encoding=\"utf-8\") as arquivo_legenda: \n",
    "        arquivo_legenda.write(transcricao) \n",
    "        \n",
    "\n"
   ]
  }
 ],
 "metadata": {
  "kernelspec": {
   "display_name": "audio-transcript-py3.12",
   "language": "python",
   "name": "python3"
  },
  "language_info": {
   "name": "python",
   "version": "3.12.0"
  }
 },
 "nbformat": 4,
 "nbformat_minor": 5
}
