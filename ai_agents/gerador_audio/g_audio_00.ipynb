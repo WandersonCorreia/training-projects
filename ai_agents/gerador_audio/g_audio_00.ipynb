{
 "cells": [
  {
   "cell_type": "markdown",
   "id": "aa485702",
   "metadata": {},
   "source": [
    "# programa gerador de audio com AI 🐍"
   ]
  },
  {
   "cell_type": "code",
   "execution_count": null,
   "id": "b2d93e7d",
   "metadata": {},
   "outputs": [],
   "source": [
    "from openai import OpenAI \n",
    "from dotenv import load_dotenv\n",
    "import base64\n",
    "\n",
    "load_dotenv() # carrega as variáveis de ambiente (API KEY .env)\n",
    "cliente = OpenAI ()\n",
    "\n",
    "resposta = cliente.chat.completions.create(\n",
    "    model = \"gpt-4o-audio-preview\",  # pode ser outro modelo - ver documentacao\n",
    "    modalities = [\"text\", \"audio\"],\n",
    "    audio = {format:'wav'}, # existem varios formatos e vozes, ver na documentação\n",
    "    messages =\n",
    "    {role : \"user\", content:\"Crie um audio falando que o papai é muito legal\"}\n",
    ")\n",
    "\n",
    "# parametro choices na resposta permite escolher a resposta, geralmente a primeira[0] é a a melhor\n",
    "fx_audio = choice[0].message.audio.data\n",
    "\n",
    "# as respostas, como tudo nas IA's vêm em byes, então pe necessário codifica ou decodificar a mensagem\n",
    "# por isso a utilização do base64\n",
    "fx_audio_decoder = base64.b64code(fx_audio) \n",
    "\n",
    "# gravando o audio decodificado - Abre-se arquivo para escrita w em bytes\n",
    "# dentro do with para controlar erros e fechamento de arquivo\n",
    "with open(\"audio.wav\", \"wb\") as arq_audio:\n",
    "    arq_audio.write(fx_audio_decoder)\n",
    "\n",
    "\n"
   ]
  },
  {
   "cell_type": "markdown",
   "id": "aa27b33f",
   "metadata": {},
   "source": [
    "# Mesmo exemplo mas sem usar o recurso da IA de interpretar e melhorar a solicitacao, apenas genrando o audio à partir do texto enviado"
   ]
  },
  {
   "cell_type": "code",
   "execution_count": null,
   "id": "8570b9d9",
   "metadata": {},
   "outputs": [],
   "source": [
    "from openai import OpenAI \n",
    "from dotenv import load_dotenv\n",
    "\n",
    "load_dotenv() # carrega as variáveis de ambiente (API KEY .env)\n",
    "cliente = OpenAI ()\n",
    "\n",
    "resposta = cliente.audio.speech.create(\n",
    "    model=\"tts-1\",\n",
    "    voice=\"alloy\",\n",
    "    response_format=\"wav\",\n",
    "    input=\"audio gerado por IA assim como foi enviado sem tratamentos\"\n",
    ")\n",
    "\n",
    "resposta.write_to_file(\"audio2.wav\")\n"
   ]
  }
 ],
 "metadata": {
  "kernelspec": {
   "display_name": "gerador-audio-py3.12",
   "language": "python",
   "name": "python3"
  },
  "language_info": {
   "codemirror_mode": {
    "name": "ipython",
    "version": 3
   },
   "file_extension": ".py",
   "mimetype": "text/x-python",
   "name": "python",
   "nbconvert_exporter": "python",
   "pygments_lexer": "ipython3",
   "version": "3.12.0"
  }
 },
 "nbformat": 4,
 "nbformat_minor": 5
}
