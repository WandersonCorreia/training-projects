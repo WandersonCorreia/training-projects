{
 "cells": [
  {
   "cell_type": "markdown",
   "id": "4ed162b5",
   "metadata": {},
   "source": [
    "# exemplo da documentação da OPENAI - DALL E 🐍 \n",
    "Nas células abaixo optei por importar as bibliotecas em cada uma delas, mas isso não e necesssário, só fiz isso por opção mesmo"
   ]
  },
  {
   "cell_type": "code",
   "execution_count": null,
   "id": "9dac3e11",
   "metadata": {},
   "outputs": [],
   "source": [
    "from openai import OpenAI\n",
    "import base64\n",
    "from dotenv import load_dotenv\n",
    "\n",
    "load_dotenv()\n",
    "client = OpenAI() \n",
    "\n",
    "response = client.responses.create(\n",
    "    model=\"gpt-5\",\n",
    "    input=\"Generate an image of gray tabby cat hugging an otter with an orange scarf\",\n",
    "    tools=[{\"type\": \"image_generation\"}],\n",
    ")\n",
    "\n",
    "# Save the image to a file\n",
    "image_data = [\n",
    "    output.result\n",
    "    for output in response.output\n",
    "    if output.type == \"image_generation_call\"\n",
    "]\n",
    "    \n",
    "if image_data:\n",
    "    image_base64 = image_data[0]\n",
    "    with open(\"otter.png\", \"wb\") as f:\n",
    "        f.write(base64.b64decode(image_base64))\n"
   ]
  },
  {
   "cell_type": "markdown",
   "id": "0c8167cd",
   "metadata": {},
   "source": [
    "# gerar Imagem com IA e salvando a imagem no PC 🐍 "
   ]
  },
  {
   "cell_type": "code",
   "execution_count": null,
   "id": "5860971e",
   "metadata": {},
   "outputs": [],
   "source": [
    "from openai import OpenAI\n",
    "from dotenv import load_dotenv\n",
    "import requests\n",
    "\n",
    "load_dotenv()\n",
    "cliente = OpenAI()\n",
    "\n",
    "resposta = cliente.images.generate(\n",
    "    model = \"dall-e-3\",\n",
    "    prompt= \"gere uma imagem hiper-realista de um sei lá o que não sei o que lá\",\n",
    "    size =\"1024 x 1024\" # é possível informar N outros parâmetros, como qualidade ou quantidade de imagens por exemplo mas é bom lembrar que quanto mais qualidade mais imagens etc, mais caro \n",
    ")\n",
    "# como toda a API ou quase toda a API, é gerado uma lista com as resposta, como só pedimos uma imagem então a lista só tem um elemento\n",
    "# a resposta da IA é sempre uma URL que contém a imagem gerada, o lista, como foi gerado apena imagem o indexador [0] recupera o link da imagem\n",
    "url_imagem = resposta.data[0].url \n",
    "\n",
    "# salvando a imagem no PC - \n",
    "# para fazer requisições usamos a bibliotea requests uma das mais usadas\n",
    "imagem_info = requests.get(url_imagem)\n",
    "\n",
    "with open(\"imagem.jpg\", \"wb\", ) as imagem_arq: # parametro wb quer dizer que o arquivo vai ser aberto para escrita, em bytes\n",
    "    imagem_arq.wite(imagem_info.content)\n"
   ]
  },
  {
   "cell_type": "markdown",
   "id": "bc4b070f",
   "metadata": {},
   "source": [
    "# Alterando uma imagem 🐍 \n"
   ]
  },
  {
   "cell_type": "code",
   "execution_count": null,
   "id": "71f8acb7",
   "metadata": {},
   "outputs": [],
   "source": [
    "from openai import OpenAI\n",
    "from dotenv import load_dotenv\n",
    "import requests\n",
    "\n",
    "load_dotenv()\n",
    "cliente = OpenAI()\n",
    "\n",
    "with open(\"arq_imagem.jpg\",\"rb\") as arq_imagem:\n",
    "    # para criar variações não é necessário incluir um prompt, o create_variation já informa o que é para ser feito\n",
    "    resposta = cliente.images.create_variation(\n",
    "        model=\"dall-e-2\",\n",
    "        n=3;\n",
    "        image = arq_imagem\n",
    "    )\n",
    "\n",
    "imagens = resposta.data\n",
    "\n",
    "for i, imagem in enumerate(imagens, start=1): # para cada imagem na lista de imagens\n",
    "                       # para pegar o índice do for que é o índice de imagens fazemos um enumerate\n",
    "                       # por padrão os índices no python começam do 0, mas com  START é possível mudar o início da contagem neste caso: 1\n",
    "    url_imagem = imagem.url\n",
    "    imagem_info = requests.get(url_imagem)\n",
    "\n",
    "    with open(f\"imagem{i}.jpg\", \"wb\", ) as imagem_arq: # parametro wb quer dizer que o arquivo vai ser aberto para escrita, em bytes\n",
    "        imagem_arq.wite(imagem_info.content)\n"
   ]
  }
 ],
 "metadata": {
  "kernelspec": {
   "display_name": "gerador-imagens-py3.12",
   "language": "python",
   "name": "python3"
  },
  "language_info": {
   "codemirror_mode": {
    "name": "ipython",
    "version": 3
   },
   "file_extension": ".py",
   "mimetype": "text/x-python",
   "name": "python",
   "nbconvert_exporter": "python",
   "pygments_lexer": "ipython3",
   "version": "3.12.0"
  }
 },
 "nbformat": 4,
 "nbformat_minor": 5
}
